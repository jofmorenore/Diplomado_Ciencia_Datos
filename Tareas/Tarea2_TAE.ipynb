{
 "cells": [
  {
   "cell_type": "markdown",
   "id": "60e44130-8884-47a7-ba2b-6ba9bab2f59a",
   "metadata": {},
   "source": [
    "# <span style=\"color:green\"><center> Tarea 2 </center></span>\n",
    "# <span style=\"color:green\"><center> jofmorenore@unal.edu.co </center></span> "
   ]
  },
  {
   "cell_type": "code",
   "execution_count": 1,
   "id": "e2cbea64-caf2-412d-9d3d-5ec0dece1ecb",
   "metadata": {},
   "outputs": [],
   "source": [
    "import numpy as np\n",
    "import random\n",
    "import sys\n",
    "from functools import reduce\n",
    "from datetime import datetime\n",
    "from datetime import date\n",
    "from IPython.display import display, Markdown, Latex"
   ]
  },
  {
   "cell_type": "markdown",
   "id": "041eadbb-85be-4262-91a5-47b1e6c7addb",
   "metadata": {},
   "source": [
    "# Punto 1  \n",
    "Escriba una función  que reciba la fecha de nacimiento de una persona y calcule la edad de la persona"
   ]
  },
  {
   "cell_type": "code",
   "execution_count": 2,
   "id": "8bb10c83-d8ba-46d0-922c-22ac8123a1eb",
   "metadata": {},
   "outputs": [],
   "source": [
    "def edad(ddmmyyyy):\n",
    "    \"\"\"\n",
    "    La fecha puede ser ingresada en formato: yyyy(-|/|)mm(-|/|)dd,, dd(-|/|)mm(-|/|)yyyy, mm(-|/|)dd(-|/|)yyyy\n",
    "    \"\"\"\n",
    "    def guess_date(string):\n",
    "        for fmt in [\"%Y-%m-%d\",\"%Y/%m/%d\",\"%Y%m%d\",\"%d-%m-%Y\",\"%d/%m/%Y\",\"%d%m%Y\",\"%m-%d-%Y\",\"%m/%d/%Y\",\"%m%d%Y\"]:\n",
    "            try:\n",
    "                return datetime.strptime(string, fmt)\n",
    "            except ValueError:\n",
    "                continue\n",
    "        raise ValueError(print(\"Por favor ingrese una fecha válida: por ejemplo: '\", ff_actual, \"'\", sep = \"\"))\n",
    "    ff_actual = datetime.today()\n",
    "    ddmmyyyy = guess_date(ddmmyyyy)\n",
    "    age = np.array([(ff_actual - ddmmyyyy)], dtype=\"timedelta64[ms]\")[0]/ np.timedelta64(365,'D')\n",
    "    age = age.round(1).astype('int')\n",
    "    return print('La edad es:',age)"
   ]
  },
  {
   "cell_type": "code",
   "execution_count": 3,
   "id": "327a9c28-ec95-4ccd-b0ac-b16d1f000ac7",
   "metadata": {},
   "outputs": [
    {
     "name": "stdout",
     "output_type": "stream",
     "text": [
      "La edad es: 19\n",
      "La edad es: 25\n",
      "La edad es: 32\n",
      "La edad es: 38\n",
      "La edad es: 46\n",
      "La edad es: 56\n",
      "La edad es: 62\n",
      "La edad es: 70\n",
      "La edad es: 77\n"
     ]
    }
   ],
   "source": [
    "fechas_nacimiento = ['2004-01-17', '1998/02/20', '19900330', '13-04-1984', '23/05/1976', '30061966', '07-22-1960', '08/26/1952', '09301945']\n",
    "for i in fechas_nacimiento:\n",
    "    edad(i)"
   ]
  },
  {
   "cell_type": "markdown",
   "id": "3e3d1bdd-f4e9-4055-9263-3a431d9e7a28",
   "metadata": {},
   "source": [
    "# Punto 2 \n",
    "Crea una función EscribirCentrado, que reciba como parámetro un texto y lo escriba centrado en pantalla (suponiendo una anchura de 80 columnas; pista: deberás escribir 40 - longitud/2 espacios antes del texto).  "
   ]
  },
  {
   "cell_type": "code",
   "execution_count": 4,
   "id": "1ddf4242-e449-47e7-9e38-ec13f621e0b0",
   "metadata": {},
   "outputs": [
    {
     "data": {
      "text/plain": [
       "'.....................................texto......................................'"
      ]
     },
     "execution_count": 4,
     "metadata": {},
     "output_type": "execute_result"
    }
   ],
   "source": [
    "def EscribirCentrado(txt):\n",
    "    cadena = '.'*80\n",
    "    longitud = len(txt)\n",
    "    pos = int(40-(longitud/2))\n",
    "    cadena= cadena[:pos] + txt + cadena[pos+longitud:]\n",
    "    return(cadena)\n",
    "\n",
    "EscribirCentrado('texto')"
   ]
  },
  {
   "cell_type": "markdown",
   "id": "3316645a-9b9b-456a-8189-d5ed3938caed",
   "metadata": {},
   "source": [
    "# Punto 3\n",
    "Construya una función decorada que reciba un texto y lo escriba marcado con Markdown en itálica y resaltada (bold). Revise la lección de decoradores, no vista en clase."
   ]
  },
  {
   "cell_type": "code",
   "execution_count": 5,
   "id": "f273fa76-0e99-4e93-9bff-497363b2b7e8",
   "metadata": {},
   "outputs": [
    {
     "data": {
      "text/markdown": [
       "<b><i>un texto marcado con Markdown en itálica y resaltada</i></b>"
      ],
      "text/plain": [
       "<IPython.core.display.Markdown object>"
      ]
     },
     "metadata": {},
     "output_type": "display_data"
    }
   ],
   "source": [
    "# decoradores\n",
    "def make_bold(fn):\n",
    "    def makebold_wrapper(txt):\n",
    "        return \"<b>\" + fn(txt) + \"</b>\"\n",
    "    return makebold_wrapper\n",
    "\n",
    "def make_italic(fn):\n",
    "    def makeitalic_wrapper(txt):\n",
    "        return \"<i>\" + fn(txt) + \"</i>\"\n",
    "    return makeitalic_wrapper\n",
    "\n",
    "# aplica los decoradores\n",
    "\n",
    "@make_bold\n",
    "@make_italic\n",
    "def hola(txt):\n",
    "    return txt\n",
    "\n",
    "display(Markdown(hola('un texto marcado con Markdown en itálica y resaltada')))"
   ]
  },
  {
   "cell_type": "markdown",
   "id": "dd5f58fc-24bd-493c-bfd6-abf9f5f87ad0",
   "metadata": {},
   "source": [
    "# Punto 4  \n",
    "Crea un programa que pida dos número enteros al usuario y diga si alguno de ellos es múltiplo del otro. "
   ]
  },
  {
   "cell_type": "code",
   "execution_count": 6,
   "id": "a73b2b73-28d0-42e9-96e0-18c6ff3c01ef",
   "metadata": {},
   "outputs": [],
   "source": [
    "def multiplo():\n",
    "    x = int(input(\"Ingrese un número: \"))\n",
    "    y = int(input(\"Ingrese otro número: \"))\n",
    "    if x > y:\n",
    "        if x%y == 0: print(x,\"es múltiplo de\", y) \n",
    "        else: print(y,\"y\",x,\"no son múltiplos\")\n",
    "    else:\n",
    "        if y%x == 0: print(y,\"es múltiplo de\", x) \n",
    "        else: print(x,\"y\",y,\"no son múltiplos\")"
   ]
  },
  {
   "cell_type": "code",
   "execution_count": 7,
   "id": "bc90a6dc-3bb2-4edd-8218-643353a88ab0",
   "metadata": {},
   "outputs": [
    {
     "name": "stdin",
     "output_type": "stream",
     "text": [
      "Ingrese un número:  337\n",
      "Ingrese otro número:  1474\n"
     ]
    },
    {
     "name": "stdout",
     "output_type": "stream",
     "text": [
      "337 y 1474 no son múltiplos\n"
     ]
    }
   ],
   "source": [
    "multiplo()"
   ]
  },
  {
   "cell_type": "code",
   "execution_count": 8,
   "id": "ba4a3305-22e8-4f19-959c-9c0762ae492a",
   "metadata": {},
   "outputs": [
    {
     "name": "stdin",
     "output_type": "stream",
     "text": [
      "Ingrese un número:  12345\n",
      "Ingrese otro número:  3\n"
     ]
    },
    {
     "name": "stdout",
     "output_type": "stream",
     "text": [
      "12345 es múltiplo de 3\n"
     ]
    }
   ],
   "source": [
    "multiplo()"
   ]
  },
  {
   "cell_type": "markdown",
   "id": "243d7bce-7725-43a3-88d3-edbaab0bb426",
   "metadata": {},
   "source": [
    "# Punto 5\n",
    "Crear una función re reciba una lista  de 24 valores de temperatura leída  hora en un día y que calcule la temperatura media  Cree una lista con 24 valores de temperatura de un día de Bogotá y pruebe su función. Invente los datos."
   ]
  },
  {
   "cell_type": "code",
   "execution_count": 9,
   "id": "a344b92e-9b59-4f49-87c7-124c85e75062",
   "metadata": {},
   "outputs": [],
   "source": [
    "def temperatura(list24):\n",
    "    if len(list24)==24:\n",
    "        print(\"La temperatura media de un día en Bogotá es:\",np.array(list24).mean().round(1),\"℃\")\n",
    "    else: \n",
    "        raise ValueError(\"La lista debe contener 24 valores\")"
   ]
  },
  {
   "cell_type": "code",
   "execution_count": 10,
   "id": "b3ebebce-07a7-4ac2-b998-751b08a4d185",
   "metadata": {},
   "outputs": [
    {
     "name": "stdout",
     "output_type": "stream",
     "text": [
      "La temperatura media de un día en Bogotá es: 16.9 ℃\n"
     ]
    }
   ],
   "source": [
    "random.seed(17022022)\n",
    "list24 = [random.randint(12,22)+random.random() for i in range(24)]\n",
    "temperatura(list24)"
   ]
  },
  {
   "cell_type": "markdown",
   "id": "a7d152fd-2931-448f-8b1c-c0b63696cfa9",
   "metadata": {},
   "source": [
    "# Punto 5a\n",
    "Crea un función “ConvertirEspaciado”, que reciba como parámetro un texto y devuelve una cadena con un espacio adicional tras cada letra. Por ejemplo, “Hola, tú” devolverá “H o l a , t ú “.  Pruebe "
   ]
  },
  {
   "cell_type": "code",
   "execution_count": 11,
   "id": "539beca5-0b83-489e-9ece-5280b82f9165",
   "metadata": {},
   "outputs": [
    {
     "data": {
      "text/plain": [
       "'H o l a , t ú '"
      ]
     },
     "execution_count": 11,
     "metadata": {},
     "output_type": "execute_result"
    }
   ],
   "source": [
    "def ConvertirEspaciado(txt):\n",
    "    txt = ''.join([i+' ' for i in txt if i!=' '])\n",
    "    return txt\n",
    "         \n",
    "ConvertirEspaciado('Hola, tú')"
   ]
  },
  {
   "cell_type": "markdown",
   "id": "ffdfa64d-312b-4464-aeb9-eed246158cc8",
   "metadata": {},
   "source": [
    "# Punto 6\n",
    "Crea una función “calcularMaxMin” que recibe una arreglo con valores numérico y devuelve el valor máximo y el mínimo. "
   ]
  },
  {
   "cell_type": "code",
   "execution_count": 12,
   "id": "3df3e365-6207-4b2d-a4f9-45dc7665872c",
   "metadata": {},
   "outputs": [
    {
     "name": "stdout",
     "output_type": "stream",
     "text": [
      "El valor máximo es: 98\n",
      "El valor mínimo es: 0\n"
     ]
    }
   ],
   "source": [
    "def calcularMaxMin(array):\n",
    "    max_min = [np.array(array).max(), np.array(array).min()]\n",
    "    return print(\"El valor máximo es: \", max_min[0], \"\\nEl valor mínimo es: \", max_min[1], sep = '')\n",
    "\n",
    "random.seed(17022022)\n",
    "array50 = [int(random.random()*100) for i in range(50)]\n",
    "calcularMaxMin(array50)"
   ]
  },
  {
   "cell_type": "markdown",
   "id": "4a3230d5-5a8b-418c-8f37-cffdf850ade3",
   "metadata": {},
   "source": [
    "# Punto 7\n",
    "Diseñar una función que calcule el área y el perímetro de una circunferencia. "
   ]
  },
  {
   "cell_type": "code",
   "execution_count": 13,
   "id": "83ea2f97-fc5c-4a2d-b11e-862bcf2dd742",
   "metadata": {},
   "outputs": [],
   "source": [
    "def area_perimetro():\n",
    "    r = float(input(\"Ingrese el radio de la circunferencia: \"))\n",
    "    area = np.array(np.pi*r**2).round(1)\n",
    "    perimetro = np.array(2*np.pi*r).round(1)\n",
    "    return print(\"El área de la circunferencia es: \", area, \"\\nEl perímetro de la circunferencia es:\", perimetro)"
   ]
  },
  {
   "cell_type": "code",
   "execution_count": 14,
   "id": "090e5e05-0280-411f-9394-6fcfb0055678",
   "metadata": {},
   "outputs": [
    {
     "name": "stdin",
     "output_type": "stream",
     "text": [
      "Ingrese el radio de la circunferencia:  5\n"
     ]
    },
    {
     "name": "stdout",
     "output_type": "stream",
     "text": [
      "El área de la circunferencia es:  78.5 \n",
      "El perímetro de la circunferencia es: 31.4\n"
     ]
    }
   ],
   "source": [
    "area_perimetro()"
   ]
  },
  {
   "cell_type": "markdown",
   "id": "2bee0216-3081-46df-8307-6ecc4e374682",
   "metadata": {},
   "source": [
    "# Punto 8\n",
    "Crear una función  llamada “Login”, que recibe un nombre de usuario y una contraseña y devuelva Verdadero si el nombre de usuario es “usuario1” y la contraseña es “asdasd”. Además recibe el número de intentos que se ha intentado hacer login y si no se ha podido hacer login incremente este valor."
   ]
  },
  {
   "cell_type": "code",
   "execution_count": 15,
   "id": "071057cf-4036-4e04-9b9c-eb05d6784187",
   "metadata": {},
   "outputs": [],
   "source": [
    "def Login():\n",
    "    count = 0\n",
    "    check = True\n",
    "    while(check):\n",
    "        count +=1 \n",
    "        user = input(\"Ingrese nombre de usuario (sin @unal.edu.co): \")\n",
    "        pssword = input(\"Ingrese la contraseña: \")\n",
    "        if user == 'usuario1' and  pssword=='asdasd':  check = False \n",
    "    return print(\"Verdadero \\n El número de intentos que se ha intentado hacer login es: \", count)"
   ]
  },
  {
   "cell_type": "code",
   "execution_count": 16,
   "id": "9e94ea4b-dd55-4569-855e-452f98a05d4a",
   "metadata": {},
   "outputs": [
    {
     "name": "stdin",
     "output_type": "stream",
     "text": [
      "Ingrese nombre de usuario (sin @unal.edu.co):  ammontenegrod\n",
      "Ingrese la contraseña:  asdasd\n",
      "Ingrese nombre de usuario (sin @unal.edu.co):  jofmorenore\n",
      "Ingrese la contraseña:  asdasd\n",
      "Ingrese nombre de usuario (sin @unal.edu.co):  usuario1\n",
      "Ingrese la contraseña:  asdasd\n"
     ]
    },
    {
     "name": "stdout",
     "output_type": "stream",
     "text": [
      "Verdadero \n",
      " El número de intentos que se ha intentado hacer login es:  3\n"
     ]
    }
   ],
   "source": [
    "Login()"
   ]
  },
  {
   "cell_type": "markdown",
   "id": "c31f59e4-bd1a-40b8-a72d-d54536d1bb6d",
   "metadata": {},
   "source": [
    "# Punto 9\n",
    "Crear una función recursiva que permita calcular el factorial de un número. Realiza un programa principal donde se lea un entero y se muestre el resultado del factorial. Revise la lección de funciones."
   ]
  },
  {
   "cell_type": "code",
   "execution_count": 17,
   "id": "7f0a7eb9-4617-466f-9ed3-d292d7f52199",
   "metadata": {},
   "outputs": [
    {
     "name": "stdin",
     "output_type": "stream",
     "text": [
      "Ingrese un número entero:  9\n"
     ]
    },
    {
     "name": "stdout",
     "output_type": "stream",
     "text": [
      "El factorial de 9 es: 362880\n"
     ]
    }
   ],
   "source": [
    "def calcula_factorial():\n",
    "    x = int(input(\"Ingrese un número entero: \"))\n",
    "    def factorial(x):\n",
    "        if x < 2:\n",
    "            return 1\n",
    "        else:\n",
    "            return x * factorial(x-1)\n",
    "    return print(\"El factorial de\", x, \"es:\", factorial(x))\n",
    "\n",
    "calcula_factorial()    "
   ]
  },
  {
   "cell_type": "markdown",
   "id": "ffda8efa-a408-4c06-9ce5-52006391dc4b",
   "metadata": {},
   "source": [
    "# Punto 10 \n",
    "Escribir dos funciones que permitan calcular: \n",
    "+ La cantidad de segundos en un tiempo dado en horas, minutos y segundos.\n",
    "+ La cantidad de horas, minutos y segundos de un tiempo dado en segundos"
   ]
  },
  {
   "cell_type": "code",
   "execution_count": 18,
   "id": "50e15e9d-b1aa-4af3-9ac9-d4714f754132",
   "metadata": {},
   "outputs": [],
   "source": [
    "def segundos(hms):\n",
    "    h, m, s = hms.split(':')\n",
    "    secs = int(h)*60**2 + int(m)*60 + int(s)\n",
    "    return print(hms, \"son\", secs, \"segundos\")\n",
    "\n",
    "def horas(secs):\n",
    "    h,m,s = [str(i) for i in [int(int(1000/60)/60), int(1000/60)%60, 1000%60]]\n",
    "    hms = ':'.join([h,m,s])\n",
    "    return print(secs, \"segundos son\", h, \"horas\", m, \"minutos y\",s,\"segundos\")"
   ]
  },
  {
   "cell_type": "code",
   "execution_count": 20,
   "id": "d0d5df72-3bc2-43e5-8145-efcc996b7f08",
   "metadata": {},
   "outputs": [
    {
     "name": "stdout",
     "output_type": "stream",
     "text": [
      "00:16:40 son 1000 segundos\n",
      "1000 segundos son 0 horas 16 minutos y 40 segundos\n"
     ]
    }
   ],
   "source": [
    "segundos('00:16:40')\n",
    "horas(1000)"
   ]
  },
  {
   "cell_type": "markdown",
   "id": "d3dabd71-0658-427a-9cf2-62b1b09bfcfe",
   "metadata": {},
   "source": [
    "# Punto 11\n",
    "Crea una función  que lea una tupla, invierta los valores de la tupla y regrese una nueva tupla invirtiendo los valores. Recuerde que las tuplas son inmutables."
   ]
  },
  {
   "cell_type": "code",
   "execution_count": 21,
   "id": "f4597a60-9eba-4013-9ae8-c41602ac1dea",
   "metadata": {},
   "outputs": [
    {
     "name": "stdout",
     "output_type": "stream",
     "text": [
      "<class 'tuple'>\n",
      "(True, [1, 2], 'foo')\n"
     ]
    }
   ],
   "source": [
    "def tupla_reversa(tup):\n",
    "    return tuple([tup[i] for i in reversed(range(len(tup)))])\n",
    "\n",
    "tup = ('foo', [1, 2], True)\n",
    "print(tup.__class__)\n",
    "print(tupla_reversa(tup))"
   ]
  },
  {
   "cell_type": "markdown",
   "id": "0af291fe-b8e2-47ef-b1e8-6a871e3615a5",
   "metadata": {},
   "source": [
    "# Punto 12\n",
    "Escriba una función que lea una lista y calcule la media geométrica de sus valores, usando funtools.reduce."
   ]
  },
  {
   "cell_type": "code",
   "execution_count": 22,
   "id": "bab072cc-495f-455e-950d-847e478a413b",
   "metadata": {},
   "outputs": [
    {
     "name": "stdout",
     "output_type": "stream",
     "text": [
      "La media geométrica de la lista es: 33.07\n"
     ]
    }
   ],
   "source": [
    "def media_geometrica(lista):\n",
    "    return np.array((reduce(lambda x, y: x*y, lista))**(1/len(lista))).round(2)\n",
    "\n",
    "random.seed(17022022)\n",
    "lista = [random.random()*100 for i in range(30)]\n",
    "print(\"La media geométrica de la lista es:\", media_geometrica(lista))"
   ]
  }
 ],
 "metadata": {
  "kernelspec": {
   "display_name": "Python 3 (ipykernel)",
   "language": "python",
   "name": "python3"
  },
  "language_info": {
   "codemirror_mode": {
    "name": "ipython",
    "version": 3
   },
   "file_extension": ".py",
   "mimetype": "text/x-python",
   "name": "python",
   "nbconvert_exporter": "python",
   "pygments_lexer": "ipython3",
   "version": "3.8.13"
  }
 },
 "nbformat": 4,
 "nbformat_minor": 5
}
