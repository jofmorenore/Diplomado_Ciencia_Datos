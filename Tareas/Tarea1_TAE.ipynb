{
  "cells": [
    {
      "cell_type": "markdown",
      "metadata": {
        "id": "view-in-github",
        "colab_type": "text"
      },
      "source": [
        "<a href=\"https://colab.research.google.com/github/jofmorenore/Diplomado_Ciencia_Datos/blob/main/Tareas/Tarea1_TAE.ipynb\" target=\"_parent\"><img src=\"https://colab.research.google.com/assets/colab-badge.svg\" alt=\"Open In Colab\"/></a>"
      ]
    },
    {
      "cell_type": "markdown",
      "id": "821febfe-d7ee-48d7-90a1-85df9b3c6354",
      "metadata": {
        "id": "821febfe-d7ee-48d7-90a1-85df9b3c6354"
      },
      "source": [
        "# <span style=\"color:green\"><center> Lección de GeoPandas </center></span>"
      ]
    },
    {
      "cell_type": "markdown",
      "id": "ef622fa1-764f-46b3-bdfe-ecdc26d6f8a3",
      "metadata": {
        "id": "ef622fa1-764f-46b3-bdfe-ecdc26d6f8a3"
      },
      "source": [
        "![](https://geopandas.org/en/stable/_images/geopandas_logo_green.png)"
      ]
    },
    {
      "cell_type": "markdown",
      "id": "a317ab47-fdea-424f-af38-48b5d8a7747e",
      "metadata": {
        "id": "a317ab47-fdea-424f-af38-48b5d8a7747e"
      },
      "source": [
        "![](http://ciencias.bogota.unal.edu.co/fileadmin/Facultad_de_Ciencias/_images/Fotos_graduandos_2020I/Pregrado/Foto_FernandoMoreno_-_Fernando_Moreno.jpg) Mi nombre es Fernando Moreno, soy estadístico de la Universidad Nacional de Colombia y estoy cursando la Maestría en Ciencias Estadística.  "
      ]
    },
    {
      "cell_type": "markdown",
      "id": "580c1f32-20ed-4501-9f79-5a6c1e4ce95b",
      "metadata": {
        "id": "580c1f32-20ed-4501-9f79-5a6c1e4ce95b"
      },
      "source": [
        "# ¿Cómo gráficar el mapa de Colombia en python?  "
      ]
    },
    {
      "cell_type": "markdown",
      "id": "40db66fd-e73f-4033-83c0-4367fd236c58",
      "metadata": {
        "id": "40db66fd-e73f-4033-83c0-4367fd236c58"
      },
      "source": [
        "A continuación se describirá el proceso para graficar el mapa de Colombia usando GeoPandas:\n",
        "\n",
        "+ instalar la librería geopandas (!pip install geopandas)\n",
        "+ descargar el archivo con la geometría en formato shapefile desde [geoportal](https://geoportal.igac.gov.co/contenido/datos-abiertos-cartografia-y-geografia)\n",
        "+ leer el archivo con extensión '.shp'\n",
        "+ opcionalmente transformar el sistema de coordenadas con el método to_crs (con parámetros $a = 6378137.0$ metros, $1/f = 298.2572221$\n",
        "entonces $e^2 = 0.006694380$ descritos en el [documento](https://www.iogp.org/wp-content/uploads/2019/09/373-07-02.pdf))\n",
        "+ finalmente graficar el mapa con el comando plot"
      ]
    },
    {
      "cell_type": "code",
      "source": [
        "!pip install geopandas"
      ],
      "metadata": {
        "colab": {
          "base_uri": "https://localhost:8080/"
        },
        "id": "9FW6VKGIbm7x",
        "outputId": "53362365-7d8d-46f5-f876-faafcefb3b2f"
      },
      "id": "9FW6VKGIbm7x",
      "execution_count": 2,
      "outputs": [
        {
          "output_type": "stream",
          "name": "stdout",
          "text": [
            "Looking in indexes: https://pypi.org/simple, https://us-python.pkg.dev/colab-wheels/public/simple/\n",
            "Collecting geopandas\n",
            "  Downloading geopandas-0.12.2-py3-none-any.whl (1.1 MB)\n",
            "\u001b[2K     \u001b[90m━━━━━━━━━━━━━━━━━━━━━━━━━━━━━━━━━━━━━━━━\u001b[0m \u001b[32m1.1/1.1 MB\u001b[0m \u001b[31m16.3 MB/s\u001b[0m eta \u001b[36m0:00:00\u001b[0m\n",
            "\u001b[?25hRequirement already satisfied: pandas>=1.0.0 in /usr/local/lib/python3.8/dist-packages (from geopandas) (1.3.5)\n",
            "Collecting fiona>=1.8\n",
            "  Downloading Fiona-1.9.1-cp38-cp38-manylinux_2_17_x86_64.manylinux2014_x86_64.whl (16.0 MB)\n",
            "\u001b[2K     \u001b[90m━━━━━━━━━━━━━━━━━━━━━━━━━━━━━━━━━━━━━━━━\u001b[0m \u001b[32m16.0/16.0 MB\u001b[0m \u001b[31m40.1 MB/s\u001b[0m eta \u001b[36m0:00:00\u001b[0m\n",
            "\u001b[?25hRequirement already satisfied: shapely>=1.7 in /usr/local/lib/python3.8/dist-packages (from geopandas) (2.0.1)\n",
            "Requirement already satisfied: packaging in /usr/local/lib/python3.8/dist-packages (from geopandas) (23.0)\n",
            "Collecting pyproj>=2.6.1.post1\n",
            "  Downloading pyproj-3.4.1-cp38-cp38-manylinux_2_17_x86_64.manylinux2014_x86_64.whl (7.8 MB)\n",
            "\u001b[2K     \u001b[90m━━━━━━━━━━━━━━━━━━━━━━━━━━━━━━━━━━━━━━━━\u001b[0m \u001b[32m7.8/7.8 MB\u001b[0m \u001b[31m58.3 MB/s\u001b[0m eta \u001b[36m0:00:00\u001b[0m\n",
            "\u001b[?25hRequirement already satisfied: certifi in /usr/local/lib/python3.8/dist-packages (from fiona>=1.8->geopandas) (2022.12.7)\n",
            "Requirement already satisfied: attrs>=19.2.0 in /usr/local/lib/python3.8/dist-packages (from fiona>=1.8->geopandas) (22.2.0)\n",
            "Collecting cligj>=0.5\n",
            "  Downloading cligj-0.7.2-py3-none-any.whl (7.1 kB)\n",
            "Collecting munch>=2.3.2\n",
            "  Downloading munch-2.5.0-py2.py3-none-any.whl (10 kB)\n",
            "Requirement already satisfied: setuptools in /usr/local/lib/python3.8/dist-packages (from fiona>=1.8->geopandas) (57.4.0)\n",
            "Collecting click-plugins>=1.0\n",
            "  Downloading click_plugins-1.1.1-py2.py3-none-any.whl (7.5 kB)\n",
            "Collecting click~=8.0\n",
            "  Downloading click-8.1.3-py3-none-any.whl (96 kB)\n",
            "\u001b[2K     \u001b[90m━━━━━━━━━━━━━━━━━━━━━━━━━━━━━━━━━━━━━━━━\u001b[0m \u001b[32m96.6/96.6 KB\u001b[0m \u001b[31m8.4 MB/s\u001b[0m eta \u001b[36m0:00:00\u001b[0m\n",
            "\u001b[?25hRequirement already satisfied: numpy>=1.17.3 in /usr/local/lib/python3.8/dist-packages (from pandas>=1.0.0->geopandas) (1.21.6)\n",
            "Requirement already satisfied: python-dateutil>=2.7.3 in /usr/local/lib/python3.8/dist-packages (from pandas>=1.0.0->geopandas) (2.8.2)\n",
            "Requirement already satisfied: pytz>=2017.3 in /usr/local/lib/python3.8/dist-packages (from pandas>=1.0.0->geopandas) (2022.7.1)\n",
            "Requirement already satisfied: six in /usr/local/lib/python3.8/dist-packages (from munch>=2.3.2->fiona>=1.8->geopandas) (1.15.0)\n",
            "Installing collected packages: pyproj, munch, click, cligj, click-plugins, fiona, geopandas\n",
            "  Attempting uninstall: click\n",
            "    Found existing installation: click 7.1.2\n",
            "    Uninstalling click-7.1.2:\n",
            "      Successfully uninstalled click-7.1.2\n",
            "\u001b[31mERROR: pip's dependency resolver does not currently take into account all the packages that are installed. This behaviour is the source of the following dependency conflicts.\n",
            "flask 1.1.4 requires click<8.0,>=5.1, but you have click 8.1.3 which is incompatible.\u001b[0m\u001b[31m\n",
            "\u001b[0mSuccessfully installed click-8.1.3 click-plugins-1.1.1 cligj-0.7.2 fiona-1.9.1 geopandas-0.12.2 munch-2.5.0 pyproj-3.4.1\n"
          ]
        }
      ]
    },
    {
      "cell_type": "code",
      "execution_count": 3,
      "id": "25d4e53b-e846-4ecf-9576-9245a7ededfc",
      "metadata": {
        "id": "25d4e53b-e846-4ecf-9576-9245a7ededfc"
      },
      "outputs": [],
      "source": [
        "import geopandas as gpd"
      ]
    },
    {
      "cell_type": "code",
      "source": [
        "from google.colab import drive\n",
        "drive.mount('/content/drive')"
      ],
      "metadata": {
        "colab": {
          "base_uri": "https://localhost:8080/"
        },
        "id": "LVELMHddb4uD",
        "outputId": "2ff9043b-0f06-4446-8874-4227729e61e2"
      },
      "id": "LVELMHddb4uD",
      "execution_count": 4,
      "outputs": [
        {
          "output_type": "stream",
          "name": "stdout",
          "text": [
            "Mounted at /content/drive\n"
          ]
        }
      ]
    },
    {
      "cell_type": "code",
      "execution_count": 5,
      "id": "6ee66fd3-0ede-4bab-b91b-099d86a380da",
      "metadata": {
        "colab": {
          "base_uri": "https://localhost:8080/",
          "height": 337
        },
        "id": "6ee66fd3-0ede-4bab-b91b-099d86a380da",
        "outputId": "d77b518e-439d-4759-c1a8-b5941c59bf46"
      },
      "outputs": [
        {
          "output_type": "execute_result",
          "data": {
            "text/plain": [
              "  DeCodigo                       DeNombre        DeArea  \\\n",
              "0       00  Area en Litigio Cauca - Huila    342.099087   \n",
              "1       05                      Antioquia  62786.020507   \n",
              "2       08                      Atlántico   3313.384461   \n",
              "3       13                        Bolívar  26662.776537   \n",
              "4       15                         Boyacá  23078.339852   \n",
              "\n",
              "                                        DeNorma    SHAPE_Leng    SHAPE_Area  \\\n",
              "0  Límite por Acuerdo Gobernadores Informe 1982  1.093000e+05  3.420991e+08   \n",
              "1        Constitución Política de Colombia 1886  2.356259e+06  6.278602e+10   \n",
              "2                            Ley No. 21 de 1910  2.792774e+05  3.313384e+09   \n",
              "3        Constitución Política de Colombia 1886  1.651842e+06  2.666278e+10   \n",
              "4        Constitución Política de Colombia 1886  1.759339e+06  2.307834e+10   \n",
              "\n",
              "                                            geometry  \n",
              "0  POLYGON ((4628086.407 1824018.057, 4628427.450...  \n",
              "1  POLYGON ((4624482.375 2526319.238, 4624578.119...  \n",
              "2  POLYGON ((4798072.649 2784977.412, 4798080.944...  \n",
              "3  POLYGON ((4753469.562 2752302.933, 4753478.480...  \n",
              "4  POLYGON ((5091224.442 2337434.687, 5091324.646...  "
            ],
            "text/html": [
              "\n",
              "  <div id=\"df-704cd777-7011-42fc-8a6e-99cf7d8823c6\">\n",
              "    <div class=\"colab-df-container\">\n",
              "      <div>\n",
              "<style scoped>\n",
              "    .dataframe tbody tr th:only-of-type {\n",
              "        vertical-align: middle;\n",
              "    }\n",
              "\n",
              "    .dataframe tbody tr th {\n",
              "        vertical-align: top;\n",
              "    }\n",
              "\n",
              "    .dataframe thead th {\n",
              "        text-align: right;\n",
              "    }\n",
              "</style>\n",
              "<table border=\"1\" class=\"dataframe\">\n",
              "  <thead>\n",
              "    <tr style=\"text-align: right;\">\n",
              "      <th></th>\n",
              "      <th>DeCodigo</th>\n",
              "      <th>DeNombre</th>\n",
              "      <th>DeArea</th>\n",
              "      <th>DeNorma</th>\n",
              "      <th>SHAPE_Leng</th>\n",
              "      <th>SHAPE_Area</th>\n",
              "      <th>geometry</th>\n",
              "    </tr>\n",
              "  </thead>\n",
              "  <tbody>\n",
              "    <tr>\n",
              "      <th>0</th>\n",
              "      <td>00</td>\n",
              "      <td>Area en Litigio Cauca - Huila</td>\n",
              "      <td>342.099087</td>\n",
              "      <td>Límite por Acuerdo Gobernadores Informe 1982</td>\n",
              "      <td>1.093000e+05</td>\n",
              "      <td>3.420991e+08</td>\n",
              "      <td>POLYGON ((4628086.407 1824018.057, 4628427.450...</td>\n",
              "    </tr>\n",
              "    <tr>\n",
              "      <th>1</th>\n",
              "      <td>05</td>\n",
              "      <td>Antioquia</td>\n",
              "      <td>62786.020507</td>\n",
              "      <td>Constitución Política de Colombia 1886</td>\n",
              "      <td>2.356259e+06</td>\n",
              "      <td>6.278602e+10</td>\n",
              "      <td>POLYGON ((4624482.375 2526319.238, 4624578.119...</td>\n",
              "    </tr>\n",
              "    <tr>\n",
              "      <th>2</th>\n",
              "      <td>08</td>\n",
              "      <td>Atlántico</td>\n",
              "      <td>3313.384461</td>\n",
              "      <td>Ley No. 21 de 1910</td>\n",
              "      <td>2.792774e+05</td>\n",
              "      <td>3.313384e+09</td>\n",
              "      <td>POLYGON ((4798072.649 2784977.412, 4798080.944...</td>\n",
              "    </tr>\n",
              "    <tr>\n",
              "      <th>3</th>\n",
              "      <td>13</td>\n",
              "      <td>Bolívar</td>\n",
              "      <td>26662.776537</td>\n",
              "      <td>Constitución Política de Colombia 1886</td>\n",
              "      <td>1.651842e+06</td>\n",
              "      <td>2.666278e+10</td>\n",
              "      <td>POLYGON ((4753469.562 2752302.933, 4753478.480...</td>\n",
              "    </tr>\n",
              "    <tr>\n",
              "      <th>4</th>\n",
              "      <td>15</td>\n",
              "      <td>Boyacá</td>\n",
              "      <td>23078.339852</td>\n",
              "      <td>Constitución Política de Colombia 1886</td>\n",
              "      <td>1.759339e+06</td>\n",
              "      <td>2.307834e+10</td>\n",
              "      <td>POLYGON ((5091224.442 2337434.687, 5091324.646...</td>\n",
              "    </tr>\n",
              "  </tbody>\n",
              "</table>\n",
              "</div>\n",
              "      <button class=\"colab-df-convert\" onclick=\"convertToInteractive('df-704cd777-7011-42fc-8a6e-99cf7d8823c6')\"\n",
              "              title=\"Convert this dataframe to an interactive table.\"\n",
              "              style=\"display:none;\">\n",
              "        \n",
              "  <svg xmlns=\"http://www.w3.org/2000/svg\" height=\"24px\"viewBox=\"0 0 24 24\"\n",
              "       width=\"24px\">\n",
              "    <path d=\"M0 0h24v24H0V0z\" fill=\"none\"/>\n",
              "    <path d=\"M18.56 5.44l.94 2.06.94-2.06 2.06-.94-2.06-.94-.94-2.06-.94 2.06-2.06.94zm-11 1L8.5 8.5l.94-2.06 2.06-.94-2.06-.94L8.5 2.5l-.94 2.06-2.06.94zm10 10l.94 2.06.94-2.06 2.06-.94-2.06-.94-.94-2.06-.94 2.06-2.06.94z\"/><path d=\"M17.41 7.96l-1.37-1.37c-.4-.4-.92-.59-1.43-.59-.52 0-1.04.2-1.43.59L10.3 9.45l-7.72 7.72c-.78.78-.78 2.05 0 2.83L4 21.41c.39.39.9.59 1.41.59.51 0 1.02-.2 1.41-.59l7.78-7.78 2.81-2.81c.8-.78.8-2.07 0-2.86zM5.41 20L4 18.59l7.72-7.72 1.47 1.35L5.41 20z\"/>\n",
              "  </svg>\n",
              "      </button>\n",
              "      \n",
              "  <style>\n",
              "    .colab-df-container {\n",
              "      display:flex;\n",
              "      flex-wrap:wrap;\n",
              "      gap: 12px;\n",
              "    }\n",
              "\n",
              "    .colab-df-convert {\n",
              "      background-color: #E8F0FE;\n",
              "      border: none;\n",
              "      border-radius: 50%;\n",
              "      cursor: pointer;\n",
              "      display: none;\n",
              "      fill: #1967D2;\n",
              "      height: 32px;\n",
              "      padding: 0 0 0 0;\n",
              "      width: 32px;\n",
              "    }\n",
              "\n",
              "    .colab-df-convert:hover {\n",
              "      background-color: #E2EBFA;\n",
              "      box-shadow: 0px 1px 2px rgba(60, 64, 67, 0.3), 0px 1px 3px 1px rgba(60, 64, 67, 0.15);\n",
              "      fill: #174EA6;\n",
              "    }\n",
              "\n",
              "    [theme=dark] .colab-df-convert {\n",
              "      background-color: #3B4455;\n",
              "      fill: #D2E3FC;\n",
              "    }\n",
              "\n",
              "    [theme=dark] .colab-df-convert:hover {\n",
              "      background-color: #434B5C;\n",
              "      box-shadow: 0px 1px 3px 1px rgba(0, 0, 0, 0.15);\n",
              "      filter: drop-shadow(0px 1px 2px rgba(0, 0, 0, 0.3));\n",
              "      fill: #FFFFFF;\n",
              "    }\n",
              "  </style>\n",
              "\n",
              "      <script>\n",
              "        const buttonEl =\n",
              "          document.querySelector('#df-704cd777-7011-42fc-8a6e-99cf7d8823c6 button.colab-df-convert');\n",
              "        buttonEl.style.display =\n",
              "          google.colab.kernel.accessAllowed ? 'block' : 'none';\n",
              "\n",
              "        async function convertToInteractive(key) {\n",
              "          const element = document.querySelector('#df-704cd777-7011-42fc-8a6e-99cf7d8823c6');\n",
              "          const dataTable =\n",
              "            await google.colab.kernel.invokeFunction('convertToInteractive',\n",
              "                                                     [key], {});\n",
              "          if (!dataTable) return;\n",
              "\n",
              "          const docLinkHtml = 'Like what you see? Visit the ' +\n",
              "            '<a target=\"_blank\" href=https://colab.research.google.com/notebooks/data_table.ipynb>data table notebook</a>'\n",
              "            + ' to learn more about interactive tables.';\n",
              "          element.innerHTML = '';\n",
              "          dataTable['output_type'] = 'display_data';\n",
              "          await google.colab.output.renderOutput(dataTable, element);\n",
              "          const docLink = document.createElement('div');\n",
              "          docLink.innerHTML = docLinkHtml;\n",
              "          element.appendChild(docLink);\n",
              "        }\n",
              "      </script>\n",
              "    </div>\n",
              "  </div>\n",
              "  "
            ]
          },
          "metadata": {},
          "execution_count": 5
        }
      ],
      "source": [
        "# https://geoportal.igac.gov.co/contenido/datos-abiertos-cartografia-y-geografia\n",
        "#shp = gpd.read_file('Departamentos202208_shp/Depto.shp')\n",
        "shp = gpd.read_file('/content/drive/MyDrive/Departamentos202208_shp/Depto.shp')\n",
        "shp.head()"
      ]
    },
    {
      "cell_type": "code",
      "execution_count": 6,
      "id": "01a2c73f-cce5-4fce-9a0b-8a4b61c1edd0",
      "metadata": {
        "colab": {
          "base_uri": "https://localhost:8080/"
        },
        "id": "01a2c73f-cce5-4fce-9a0b-8a4b61c1edd0",
        "outputId": "16bbb2d5-0d53-46c5-8a44-2d94b80b3624"
      },
      "outputs": [
        {
          "output_type": "execute_result",
          "data": {
            "text/plain": [
              "<Derived Projected CRS: EPSG:9377>\n",
              "Name: MAGNA-SIRGAS / Origen-Nacional\n",
              "Axis Info [cartesian]:\n",
              "- N[north]: Northing (metre)\n",
              "- E[east]: Easting (metre)\n",
              "Area of Use:\n",
              "- name: Colombia - onshore and offshore. Includes San Andres y Providencia, Malpelo Islands, Roncador Bank, Serrana Bank and Serranilla Bank.\n",
              "- bounds: (-84.77, -4.23, -66.87, 15.51)\n",
              "Coordinate Operation:\n",
              "- name: Colombia Transverse Mercator\n",
              "- method: Transverse Mercator\n",
              "Datum: Marco Geocentrico Nacional de Referencia\n",
              "- Ellipsoid: GRS 1980\n",
              "- Prime Meridian: Greenwich"
            ]
          },
          "metadata": {},
          "execution_count": 6
        }
      ],
      "source": [
        "shp.crs"
      ]
    },
    {
      "cell_type": "code",
      "execution_count": 7,
      "id": "45feb21b-3795-4742-ba8a-0fb1b962cb5d",
      "metadata": {
        "colab": {
          "base_uri": "https://localhost:8080/"
        },
        "id": "45feb21b-3795-4742-ba8a-0fb1b962cb5d",
        "outputId": "2c544b8a-fbb1-487a-ffa0-9c8ff6ccb235"
      },
      "outputs": [
        {
          "output_type": "execute_result",
          "data": {
            "text/plain": [
              "<Geographic 2D CRS: EPSG:4326>\n",
              "Name: WGS 84\n",
              "Axis Info [ellipsoidal]:\n",
              "- Lat[north]: Geodetic latitude (degree)\n",
              "- Lon[east]: Geodetic longitude (degree)\n",
              "Area of Use:\n",
              "- name: World.\n",
              "- bounds: (-180.0, -90.0, 180.0, 90.0)\n",
              "Datum: World Geodetic System 1984 ensemble\n",
              "- Ellipsoid: WGS 84\n",
              "- Prime Meridian: Greenwich"
            ]
          },
          "metadata": {},
          "execution_count": 7
        }
      ],
      "source": [
        "shp_4326 = shp.to_crs(\"EPSG:4326\")\n",
        "shp_4326.crs"
      ]
    },
    {
      "cell_type": "code",
      "execution_count": 8,
      "id": "c34babe6-a9e1-4f6b-b8a7-05a770ce0096",
      "metadata": {
        "colab": {
          "base_uri": "https://localhost:8080/",
          "height": 554
        },
        "id": "c34babe6-a9e1-4f6b-b8a7-05a770ce0096",
        "outputId": "455c3358-34f9-43d8-e34f-ce934ae58d0a"
      },
      "outputs": [
        {
          "output_type": "execute_result",
          "data": {
            "text/plain": [
              "<matplotlib.axes._subplots.AxesSubplot at 0x7f151285f520>"
            ]
          },
          "metadata": {},
          "execution_count": 8
        },
        {
          "output_type": "display_data",
          "data": {
            "text/plain": [
              "<Figure size 1152x648 with 1 Axes>"
            ],
            "image/png": "[encoded data removed]"
          },
          "metadata": {
            "needs_background": "light"
          }
        }
      ],
      "source": [
        "shp_4326.plot(column = \"DeCodigo\", figsize = (16, 9))"
      ]
    }
  ],
  "metadata": {
    "kernelspec": {
      "display_name": "Python 3 (ipykernel)",
      "language": "python",
      "name": "python3"
    },
    "language_info": {
      "codemirror_mode": {
        "name": "ipython",
        "version": 3
      },
      "file_extension": ".py",
      "mimetype": "text/x-python",
      "name": "python",
      "nbconvert_exporter": "python",
      "pygments_lexer": "ipython3",
      "version": "3.8.13"
    },
    "colab": {
      "provenance": [],
      "include_colab_link": true
    }
  },
  "nbformat": 4,
  "nbformat_minor": 5
}